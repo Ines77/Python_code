{
 "cells": [
  {
   "cell_type": "code",
   "execution_count": null,
   "metadata": {},
   "outputs": [],
   "source": [
    "%autosave 5\n",
    "import warnings\n",
    "warnings.filterwarnings('ignore')\n",
    "import pandas as pd\n",
    "import numpy as np"
   ]
  },
  {
   "cell_type": "code",
   "execution_count": null,
   "metadata": {},
   "outputs": [],
   "source": [
    "file = 'Survey_Data.csv'\n",
    "df = pd.read_csv(file, encoding = 'unicode_escape')\n",
    "df.columns.tolist()"
   ]
  },
  {
   "cell_type": "markdown",
   "metadata": {},
   "source": [
    "## Obtain binary questions"
   ]
  },
  {
   "cell_type": "code",
   "execution_count": null,
   "metadata": {},
   "outputs": [],
   "source": [
    "# Extract columns with binary answers\n",
    "binary_df = df.iloc[:,np.r_[0, 6, 7, 9:26, 43:52, 69:76, 84, 86:94, 95]]\n",
    "binary_df.columns"
   ]
  },
  {
   "cell_type": "code",
   "execution_count": null,
   "metadata": {},
   "outputs": [],
   "source": [
    "binary_df.head()"
   ]
  },
  {
   "cell_type": "code",
   "execution_count": null,
   "metadata": {},
   "outputs": [],
   "source": [
    "# Map binary values\n",
    "binary_df['Q13|Answer'] = binary_df['Q13|Answer'].map({'Yes':1.0, 'No':0.0})\n",
    "binary_df['Q11|Answer 1'] = binary_df['Q11|Answer 1'].map({'Yes':1.0, 'No':0.0})\n",
    "binary_df['Q3|Answer 1'] = binary_df['Q3|Answer 1'].map({'Yes':1.0, 'No':0.0})\n",
    "binary_df['Q8|Answer 1'] = binary_df['Q8|Answer 1'].map({'Yes':1.0, 'No':0.0})\n",
    "binary_df['Q8|Answer 2'] = binary_df['Q8|Answer 2'].map({'Yes':1.0, 'No':0.0})\n",
    "binary_df['Q8|Answer 3'] = binary_df['Q8|Answer 3'].map({'Yes':1.0, 'No':0.0})\n",
    "binary_df['Q8|Answer 4'] = binary_df['Q8|Answer 4'].map({'Yes':1.0, 'No':0.0})\n",
    "binary_df['Q8|Answer 5'] = binary_df['Q8|Answer 5'].map({'Yes':1.0, 'No':0.0})\n",
    "binary_df['Q8|Answer 6'] = binary_df['Q8|Answer 6'].map({'Yes':1.0, 'No':0.0})\n",
    "binary_df['Q8|Answer 7'] = binary_df['Q8|Answer 7'].map({'Yes':1.0, 'No':0.0})                                                                    \n",
    "binary_df.head()"
   ]
  },
  {
   "cell_type": "code",
   "execution_count": null,
   "metadata": {},
   "outputs": [],
   "source": [
    "## Check output for key cols\n",
    "binary_df['Q11|Answer 1'].value_counts()"
   ]
  },
  {
   "cell_type": "markdown",
   "metadata": {},
   "source": [
    "### Unpivot binary"
   ]
  },
  {
   "cell_type": "code",
   "execution_count": null,
   "metadata": {},
   "outputs": [],
   "source": [
    "# Unpivot\n",
    "binary_unpivoted = binary_df.melt(id_vars=['Patient Id'], var_name='Questions', value_name='Value')\n",
    "binary_unpivoted.tail()"
   ]
  },
  {
   "cell_type": "code",
   "execution_count": null,
   "metadata": {},
   "outputs": [],
   "source": [
    "# Check output & identify unmapped values\n",
    "binary_unpivoted['Value'].value_counts()\n",
    "#binary_unpivoted.loc[(binary_unpivoted[\"Value\"]== \"Yes\")].index.to_list()\n",
    "#binary_unpivoted.loc[[76594, 76595, 76612]]"
   ]
  },
  {
   "cell_type": "code",
   "execution_count": null,
   "metadata": {},
   "outputs": [],
   "source": [
    "# Check NAs\n",
    "binary_unpivoted.isna().sum()"
   ]
  },
  {
   "cell_type": "code",
   "execution_count": null,
   "metadata": {},
   "outputs": [],
   "source": [
    "binary_unpivoted.info()"
   ]
  },
  {
   "cell_type": "markdown",
   "metadata": {},
   "source": [
    "### Aggregate binary questions"
   ]
  },
  {
   "cell_type": "code",
   "execution_count": null,
   "metadata": {},
   "outputs": [],
   "source": [
    "binary_unpivoted.set_index(['Patient Id', 'Questions'])"
   ]
  },
  {
   "cell_type": "markdown",
   "metadata": {},
   "source": [
    "#### Obtain max() aggregation"
   ]
  },
  {
   "cell_type": "code",
   "execution_count": null,
   "metadata": {},
   "outputs": [],
   "source": [
    "binary_df_agg = binary_unpivoted.groupby(['Patient Id', 'Questions'])['Value'].max().reset_index()\n",
    "binary_df_agg"
   ]
  },
  {
   "cell_type": "markdown",
   "metadata": {},
   "source": [
    "## Obtain impact questions"
   ]
  },
  {
   "cell_type": "code",
   "execution_count": null,
   "metadata": {},
   "outputs": [],
   "source": [
    "impact_df = df.iloc[:,np.r_[0, 27:43, 53:61, 61, 77:84]]\n",
    "impact_df.columns"
   ]
  },
  {
   "cell_type": "code",
   "execution_count": null,
   "metadata": {},
   "outputs": [],
   "source": [
    "impact_df.head()"
   ]
  },
  {
   "cell_type": "code",
   "execution_count": null,
   "metadata": {},
   "outputs": [],
   "source": [
    "impact_unpivoted = impact_df.melt(id_vars=['Patient Id'], var_name='Questions', value_name='Value')\n",
    "impact_unpivoted.tail()"
   ]
  },
  {
   "cell_type": "code",
   "execution_count": null,
   "metadata": {},
   "outputs": [],
   "source": [
    "impact_unpivoted['Value'].value_counts()"
   ]
  },
  {
   "cell_type": "markdown",
   "metadata": {},
   "source": [
    "### Aggregate impact columns"
   ]
  },
  {
   "cell_type": "code",
   "execution_count": null,
   "metadata": {},
   "outputs": [],
   "source": [
    "# First set index\n",
    "impact_unpivoted.set_index(['Patient Id', 'Questions'])"
   ]
  },
  {
   "cell_type": "markdown",
   "metadata": {},
   "source": [
    "#### Obtain max() aggregation"
   ]
  },
  {
   "cell_type": "code",
   "execution_count": null,
   "metadata": {},
   "outputs": [],
   "source": [
    "impact_df_agg_max = np.round(impact_unpivoted.groupby(['Patient Id', 'Questions'])['Value'].max().reset_index(), 2)\n",
    "impact_df_agg_max"
   ]
  },
  {
   "cell_type": "code",
   "execution_count": null,
   "metadata": {},
   "outputs": [],
   "source": [
    "impact_df_agg_max['Value'].value_counts()"
   ]
  },
  {
   "cell_type": "markdown",
   "metadata": {},
   "source": [
    "## Obtain 'especial' column"
   ]
  },
  {
   "cell_type": "code",
   "execution_count": null,
   "metadata": {},
   "outputs": [],
   "source": [
    "especial_df = df.iloc[:,np.r_[0, 62:69]]\n",
    "especial_df.columns"
   ]
  },
  {
   "cell_type": "code",
   "execution_count": null,
   "metadata": {},
   "outputs": [],
   "source": [
    "especial_df_unpivoted = especial_df.melt(id_vars=['Patient Id'], var_name='Questions', value_name='Value')\n",
    "especial_df_unpivoted['Value'].value_counts()"
   ]
  },
  {
   "cell_type": "markdown",
   "metadata": {},
   "source": [
    "#### Aggregate by min()"
   ]
  },
  {
   "cell_type": "code",
   "execution_count": null,
   "metadata": {},
   "outputs": [],
   "source": [
    "especial_df_agg_min = especial_df_unpivoted.groupby(['Patient Id', 'Questions'])['Value'].min().reset_index()\n",
    "especial_df_agg_min"
   ]
  },
  {
   "cell_type": "code",
   "execution_count": null,
   "metadata": {},
   "outputs": [],
   "source": [
    "especial_df_agg_min['Value'].value_counts()"
   ]
  },
  {
   "cell_type": "markdown",
   "metadata": {},
   "source": [
    "## Join dataframes"
   ]
  },
  {
   "cell_type": "markdown",
   "metadata": {},
   "source": [
    "### Add 'Metric' and 'Category' column to each dataframe"
   ]
  },
  {
   "cell_type": "code",
   "execution_count": null,
   "metadata": {},
   "outputs": [],
   "source": [
    "binary_df_agg.set_index(['Patient Id'])\n",
    "binary_df_agg['Metric'] = \"binary\"\n",
    "binary_df_agg['Category'] = binary_df_agg['Value'].map({1.0: 'Yes', 0.0: 'No'})         \n",
    "binary_df_agg.shape[0]\n"
   ]
  },
  {
   "cell_type": "code",
   "execution_count": null,
   "metadata": {},
   "outputs": [],
   "source": [
    "impact_df_agg_max.set_index(['Patient Id'])\n",
    "impact_df_agg_max['Metric'] = \"max\"\n",
    "impact_df_agg_max.shape[0] "
   ]
  },
  {
   "cell_type": "code",
   "execution_count": null,
   "metadata": {},
   "outputs": [],
   "source": [
    "especial_df_agg_min.set_index(['Patient Id'])\n",
    "especial_df_agg_min['Metric'] = \"min\"\n",
    "especial_df_agg_min.shape[0]\n",
    "especial_df_agg_min.head()"
   ]
  },
  {
   "cell_type": "code",
   "execution_count": null,
   "metadata": {},
   "outputs": [],
   "source": [
    "binary_df_agg.shape[0] + impact_df_agg_max.shape[0] + especial_df_agg_min.shape[0]"
   ]
  },
  {
   "cell_type": "markdown",
   "metadata": {},
   "source": [
    "### Join tables"
   ]
  },
  {
   "cell_type": "code",
   "execution_count": null,
   "metadata": {},
   "outputs": [],
   "source": [
    "df_transformed = pd.concat([binary_df_agg, impact_df_agg_max, especial_df_agg_min])\n",
    "df_transformed"
   ]
  },
  {
   "cell_type": "code",
   "execution_count": null,
   "metadata": {},
   "outputs": [],
   "source": [
    "df_transformed['Metric'].value_counts()"
   ]
  },
  {
   "cell_type": "code",
   "execution_count": null,
   "metadata": {},
   "outputs": [],
   "source": [
    "len(df_transformed)"
   ]
  },
  {
   "cell_type": "markdown",
   "metadata": {},
   "source": [
    "### Split question column"
   ]
  },
  {
   "cell_type": "code",
   "execution_count": null,
   "metadata": {},
   "outputs": [],
   "source": [
    "df_transformed_split = pd.concat([df_transformed['Patient Id'], df_transformed['Questions'].str.split(\"|\", 3, expand=True), df_transformed['Value'], df_transformed['Category'], df_transformed['Metric']], axis = 1) \n",
    "df_transformed_split"
   ]
  },
  {
   "cell_type": "code",
   "execution_count": null,
   "metadata": {},
   "outputs": [],
   "source": [
    "df_transformed_split.rename({0: 'Q_number', 1:'Answer'}, axis=1, inplace=True)\n",
    "df_transformed_split"
   ]
  },
  {
   "cell_type": "code",
   "execution_count": null,
   "metadata": {},
   "outputs": [],
   "source": [
    "df_transformed_split.info()"
   ]
  },
  {
   "cell_type": "code",
   "execution_count": null,
   "metadata": {},
   "outputs": [],
   "source": [
    "df_transformed_split['Q_number'].value_counts()"
   ]
  },
  {
   "cell_type": "code",
   "execution_count": null,
   "metadata": {},
   "outputs": [],
   "source": [
    "df_transformed_split.reset_index()\n",
    "df_transformed_split"
   ]
  },
  {
   "cell_type": "code",
   "execution_count": null,
   "metadata": {},
   "outputs": [],
   "source": [
    "subset_Q5 = df_transformed_split.loc[(df_transformed_split[\"Q_number\"]== \"Q2\")]\n",
    "subset_Q5['Value'].value_counts()"
   ]
  },
  {
   "cell_type": "markdown",
   "metadata": {},
   "source": [
    "### Add unique categories"
   ]
  },
  {
   "cell_type": "markdown",
   "metadata": {},
   "source": [
    "#### Add categories for Q2 & Q5"
   ]
  },
  {
   "cell_type": "code",
   "execution_count": null,
   "metadata": {},
   "outputs": [],
   "source": [
    "# Filter Q_number\n",
    "subset_7cat_Q2_Q5 = df_transformed_split.loc[(df_transformed_split[\"Q_number\"] == \"Q2\") | (df_transformed_split[\"Q_number\"] == \"Q5\")]\n",
    "subset_7cat_Q2_Q5['Q_number'].value_counts()"
   ]
  },
  {
   "cell_type": "code",
   "execution_count": null,
   "metadata": {},
   "outputs": [],
   "source": [
    "# Set bin cut values and labels\n",
    "bins = [0.99, 1.49, 2.5, 3.49, 4.5, 5.49, 6.5, 7.49]\n",
    "names = ['Not at all Bothersome', 'Almost Not Bothersome', 'Somewhat Bothersome', 'Moderately Bothersome', 'Bothersome', 'Very Bothersome', 'Extremely Bothersome']\n",
    "\n",
    "subset_7cat_Q2_Q5['Category'] = pd.cut(subset_7cat_Q2_Q5['Value'], bins, labels=names)\n",
    "subset_7cat_Q2_Q5['Category'].value_counts()"
   ]
  },
  {
   "cell_type": "markdown",
   "metadata": {},
   "source": [
    "#### Add categories for Q6"
   ]
  },
  {
   "cell_type": "code",
   "execution_count": null,
   "metadata": {},
   "outputs": [],
   "source": [
    "# Filter Q_number\n",
    "subset_7cat_Q6 = df_transformed_split.loc[(df_transformed_split[\"Q_number\"] == \"Q6\")]\n",
    "subset_7cat_Q6"
   ]
  },
  {
   "cell_type": "code",
   "execution_count": null,
   "metadata": {},
   "outputs": [],
   "source": [
    "# Set bin cut values and labels\n",
    "bins = [0.99, 1.49, 2.5, 3.49, 4.5, 5.49, 6.5, 7.49]\n",
    "names = ['Not at All Anxious', 'Almost Not Anxious', 'Somewhat Anxious', 'Moderately Anxious', 'Anxious', 'Very Anxious', 'Extremely Anxious']\n",
    "\n",
    "subset_7cat_Q6['Category'] = pd.cut(subset_7cat_Q6['Value'], bins, labels=names)\n",
    "subset_7cat_Q6['Category'].value_counts()"
   ]
  },
  {
   "cell_type": "markdown",
   "metadata": {},
   "source": [
    "## Create subset table and substitute in main table"
   ]
  },
  {
   "cell_type": "code",
   "execution_count": null,
   "metadata": {},
   "outputs": [],
   "source": [
    "# Join subset table\n",
    "subsets_cat = pd.concat([subset_7cat_Q2_Q5, subset_7cat_Q6])\n",
    "subsets_cat"
   ]
  },
  {
   "cell_type": "code",
   "execution_count": null,
   "metadata": {},
   "outputs": [],
   "source": [
    "#Delete rows from qol_transformed_split before joining subset with categories\n",
    "df_transformed_split = df_transformed_split[df_transformed_split.Q_number != 'Q2']\n",
    "df_transformed_split = df_transformed_split[df_transformed_split.Q_number != 'Q5']\n",
    "df_transformed_split = df_transformed_split[df_transformed_split.Q_number != 'Q6']\n",
    "df_transformed_split"
   ]
  },
  {
   "cell_type": "code",
   "execution_count": null,
   "metadata": {},
   "outputs": [],
   "source": [
    "# Join back subset to main table\n",
    "df_final = pd.concat([df_transformed_split, subsets_cat])\n",
    "df_final"
   ]
  },
  {
   "cell_type": "code",
   "execution_count": null,
   "metadata": {},
   "outputs": [],
   "source": [
    "df_final['Category'].value_counts()"
   ]
  },
  {
   "cell_type": "code",
   "execution_count": null,
   "metadata": {},
   "outputs": [],
   "source": [
    "df_final['Value'] = df_final['Value'].apply(str)  \n",
    "df_final.info() "
   ]
  },
  {
   "cell_type": "code",
   "execution_count": null,
   "metadata": {},
   "outputs": [],
   "source": [
    "# Print output file\n",
    "df_final.to_csv('df_transformed', index=False)"
   ]
  }
 ],
 "metadata": {
  "kernelspec": {
   "display_name": "Python 3",
   "language": "python",
   "name": "python3"
  },
  "language_info": {
   "codemirror_mode": {
    "name": "ipython",
    "version": 3
   },
   "file_extension": ".py",
   "mimetype": "text/x-python",
   "name": "python",
   "nbconvert_exporter": "python",
   "pygments_lexer": "ipython3",
   "version": "3.7.6"
  },
  "toc": {
   "base_numbering": 1,
   "nav_menu": {},
   "number_sections": true,
   "sideBar": true,
   "skip_h1_title": false,
   "title_cell": "Table of Contents",
   "title_sidebar": "Contents",
   "toc_cell": false,
   "toc_position": {
    "height": "calc(100% - 180px)",
    "left": "10px",
    "top": "150px",
    "width": "303.837px"
   },
   "toc_section_display": true,
   "toc_window_display": true
  }
 },
 "nbformat": 4,
 "nbformat_minor": 4
}
