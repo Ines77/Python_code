{
 "cells": [
  {
   "cell_type": "markdown",
   "metadata": {},
   "source": [
    "# List comprehension"
   ]
  },
  {
   "cell_type": "code",
   "execution_count": 1,
   "metadata": {},
   "outputs": [
    {
     "data": {
      "text/plain": [
       "[1.9166666666666667, 11.842105263157896, 6.380952380952381, 2.9285714285714284]"
      ]
     },
     "execution_count": 1,
     "metadata": {},
     "output_type": "execute_result"
    }
   ],
   "source": [
    "# List comprehension - example 1\n",
    "dist = [23, 45, 67, 82]\n",
    "times = [12, 3.8, 10.5, 28]\n",
    "\n",
    "[d/t for d, t in zip(dist, times)]"
   ]
  },
  {
   "cell_type": "code",
   "execution_count": 34,
   "metadata": {},
   "outputs": [
    {
     "data": {
      "text/plain": [
       "[529, 625, 441, 484]"
      ]
     },
     "execution_count": 34,
     "metadata": {},
     "output_type": "execute_result"
    }
   ],
   "source": [
    "# List comprehension - example 2\n",
    "temps = [23, 25, 21, 22]\n",
    "\n",
    "[t**2 for t in temps]"
   ]
  },
  {
   "cell_type": "code",
   "execution_count": 39,
   "metadata": {},
   "outputs": [
    {
     "data": {
      "text/plain": [
       "[2.727272727272727, 2.75, 1.9090909090909092, 2.1555555555555554]"
      ]
     },
     "execution_count": 39,
     "metadata": {},
     "output_type": "execute_result"
    }
   ],
   "source": [
    "# List comprehension - example 3\n",
    "hights = [90, 110, 105, 97]\n",
    "weights = [33, 40, 55, 45]\n",
    "\n",
    "[h/w for h, w in zip(hights, weights)]"
   ]
  },
  {
   "cell_type": "code",
   "execution_count": 20,
   "metadata": {},
   "outputs": [
    {
     "data": {
      "text/plain": [
       "[0, 4, 16, 36, 64, 100]"
      ]
     },
     "execution_count": 20,
     "metadata": {},
     "output_type": "execute_result"
    }
   ],
   "source": [
    "# List comprehension - example 4\n",
    "numbers = np.arange(0, 11, 2)\n",
    "\n",
    "[n**2 for n in numbers]"
   ]
  },
  {
   "cell_type": "code",
   "execution_count": 10,
   "metadata": {},
   "outputs": [],
   "source": [
    "import numpy as np"
   ]
  },
  {
   "cell_type": "markdown",
   "metadata": {},
   "source": [
    "# Lambda Function"
   ]
  },
  {
   "cell_type": "code",
   "execution_count": 26,
   "metadata": {},
   "outputs": [
    {
     "data": {
      "text/plain": [
       "[1.9166666666666667, 11.842105263157896, 6.380952380952381, 2.9285714285714284]"
      ]
     },
     "execution_count": 26,
     "metadata": {},
     "output_type": "execute_result"
    }
   ],
   "source": [
    "# Lambda function - example 1\n",
    "speed = list(map(lambda d, t: d/t, dist, times))\n",
    "speed"
   ]
  },
  {
   "cell_type": "code",
   "execution_count": 27,
   "metadata": {},
   "outputs": [
    {
     "data": {
      "text/plain": [
       "[529, 625, 441, 484]"
      ]
     },
     "execution_count": 27,
     "metadata": {},
     "output_type": "execute_result"
    }
   ],
   "source": [
    "# Lambda function - example 2\n",
    "sqr_temps = list(map(lambda t: t**2, temps))\n",
    "sqr_temps"
   ]
  },
  {
   "cell_type": "code",
   "execution_count": 24,
   "metadata": {},
   "outputs": [
    {
     "data": {
      "text/plain": [
       "[2.727272727272727, 2.75, 1.9090909090909092, 2.1555555555555554]"
      ]
     },
     "execution_count": 24,
     "metadata": {},
     "output_type": "execute_result"
    }
   ],
   "source": [
    "# Lambda function - example 3\n",
    "hight_ratio = list(map(lambda h, w: h/w, hights, weight))\n",
    "hight_ratio"
   ]
  },
  {
   "cell_type": "code",
   "execution_count": 21,
   "metadata": {},
   "outputs": [
    {
     "data": {
      "text/plain": [
       "[0, 4, 16, 36, 64, 100]"
      ]
     },
     "execution_count": 21,
     "metadata": {},
     "output_type": "execute_result"
    }
   ],
   "source": [
    "# Lambda function - example 4\n",
    "squared = list(map(lambda num:num**2, numbers))\n",
    "squared"
   ]
  },
  {
   "cell_type": "markdown",
   "metadata": {},
   "source": [
    "# for loops"
   ]
  },
  {
   "cell_type": "code",
   "execution_count": 28,
   "metadata": {},
   "outputs": [
    {
     "data": {
      "text/plain": [
       "[1.9166666666666667, 11.842105263157896, 6.380952380952381, 2.9285714285714284]"
      ]
     },
     "execution_count": 28,
     "metadata": {},
     "output_type": "execute_result"
    }
   ],
   "source": [
    "# for loops  - example 1\n",
    "speeds = []\n",
    "for i in range(len(dist)):\n",
    "    speeds.append(dist[i]/times[i])\n",
    "    \n",
    "speeds    "
   ]
  },
  {
   "cell_type": "code",
   "execution_count": 35,
   "metadata": {},
   "outputs": [
    {
     "data": {
      "text/plain": [
       "[23, 25, 21, 22]"
      ]
     },
     "execution_count": 35,
     "metadata": {},
     "output_type": "execute_result"
    }
   ],
   "source": [
    "# for loops  - example 2\n",
    "temps_sqr = []\n",
    "for t in range(len(temps)):\n",
    "    temps_sqr.append(temps[t]**2)\n",
    "    \n",
    "temps    "
   ]
  },
  {
   "cell_type": "code",
   "execution_count": 40,
   "metadata": {},
   "outputs": [
    {
     "data": {
      "text/plain": [
       "[2.727272727272727, 2.75, 1.9090909090909092, 2.1555555555555554]"
      ]
     },
     "execution_count": 40,
     "metadata": {},
     "output_type": "execute_result"
    }
   ],
   "source": [
    "# for loops  - example 3\n",
    "hight_ratio = []\n",
    "for i in range(len(hights)):\n",
    "    hight_ratio.append(hights[i]/weights[i])\n",
    "\n",
    "hight_ratio                          "
   ]
  },
  {
   "cell_type": "code",
   "execution_count": 41,
   "metadata": {},
   "outputs": [
    {
     "data": {
      "text/plain": [
       "[0, 4, 16, 36, 64, 100]"
      ]
     },
     "execution_count": 41,
     "metadata": {},
     "output_type": "execute_result"
    }
   ],
   "source": [
    "# for loops  - example 4\n",
    "sqrs = []\n",
    "for i in range(len(numbers)):\n",
    "    sqrs.append(numbers[i]**2)\n",
    "sqrs    "
   ]
  },
  {
   "cell_type": "markdown",
   "metadata": {},
   "source": [
    "# More Exercises"
   ]
  },
  {
   "cell_type": "markdown",
   "metadata": {},
   "source": [
    "## Stock returns\n",
    "Determine the returns for every day of the year of stocks. Assume an initial price is $110."
   ]
  },
  {
   "cell_type": "code",
   "execution_count": 44,
   "metadata": {},
   "outputs": [
    {
     "data": {
      "text/plain": [
       "array([ 7.51549983, -7.087899  , -0.51552024, -3.96317067, 14.16409125])"
      ]
     },
     "execution_count": 44,
     "metadata": {},
     "output_type": "execute_result"
    }
   ],
   "source": [
    "returns = np.random.normal(0, 10, 250)\n",
    "returns[:5]"
   ]
  },
  {
   "cell_type": "code",
   "execution_count": 47,
   "metadata": {},
   "outputs": [
    {
     "data": {
      "text/plain": [
       "[826.7049810802172,\n",
       " -779.6688897718282,\n",
       " -56.70722666421324,\n",
       " -435.9487738131394,\n",
       " 1558.0500372892175]"
      ]
     },
     "execution_count": 47,
     "metadata": {},
     "output_type": "execute_result"
    }
   ],
   "source": [
    "price = 110\n",
    "\n",
    "# List comprehension\n",
    "[price*r for r in returns][:5]"
   ]
  },
  {
   "cell_type": "code",
   "execution_count": 67,
   "metadata": {},
   "outputs": [
    {
     "data": {
      "text/plain": [
       "[826.7049810802172,\n",
       " -779.6688897718282,\n",
       " -56.70722666421324,\n",
       " -435.9487738131394,\n",
       " 1558.0500372892175]"
      ]
     },
     "execution_count": 67,
     "metadata": {},
     "output_type": "execute_result"
    }
   ],
   "source": [
    "# Lambda function\n",
    "daily_returns = list(map(lambda r:price*r, returns))\n",
    "daily_returns[:5]"
   ]
  },
  {
   "cell_type": "code",
   "execution_count": 69,
   "metadata": {},
   "outputs": [
    {
     "data": {
      "text/plain": [
       "[826.7049810802172,\n",
       " -779.6688897718282,\n",
       " -56.70722666421324,\n",
       " -435.9487738131394,\n",
       " 1558.0500372892175]"
      ]
     },
     "execution_count": 69,
     "metadata": {},
     "output_type": "execute_result"
    }
   ],
   "source": [
    "# for loop\n",
    "daily_returns = []\n",
    "for r in range(len(returns)):\n",
    "    daily_returns.append(price*returns[r])\n",
    "\n",
    "daily_returns[:5]  "
   ]
  },
  {
   "cell_type": "markdown",
   "metadata": {},
   "source": [
    "## Value customers\n",
    "Estimate the number of engaged users for ten websites as the ratio of visitors to the visitors_purchasing. "
   ]
  },
  {
   "cell_type": "code",
   "execution_count": 52,
   "metadata": {},
   "outputs": [],
   "source": [
    "# Data\n",
    "visitors = np.random.normal(500, 120, 10)\n",
    "visitors_purchasing = np.random.normal(150, 62, 10 )"
   ]
  },
  {
   "cell_type": "code",
   "execution_count": 71,
   "metadata": {},
   "outputs": [
    {
     "data": {
      "text/plain": [
       "[384.63536425952,\n",
       " 457.730092347251,\n",
       " 209.06000172587008,\n",
       " 323.2986798585154,\n",
       " 355.77130153813846,\n",
       " 274.4358870194579,\n",
       " 278.8976591555613,\n",
       " 150.76672398216587,\n",
       " 221.54395234476607,\n",
       " 243.21914730878018]"
      ]
     },
     "execution_count": 71,
     "metadata": {},
     "output_type": "execute_result"
    }
   ],
   "source": [
    "# List comprehension\n",
    "engaged = [100*(v/p) for v, p in zip(visitors, visitors_purchasing)]\n",
    "engaged  "
   ]
  },
  {
   "cell_type": "code",
   "execution_count": 72,
   "metadata": {},
   "outputs": [
    {
     "data": {
      "text/plain": [
       "[384.63536425952,\n",
       " 457.730092347251,\n",
       " 209.06000172587008,\n",
       " 323.2986798585154,\n",
       " 355.77130153813846,\n",
       " 274.4358870194579,\n",
       " 278.8976591555613,\n",
       " 150.76672398216587,\n",
       " 221.54395234476607,\n",
       " 243.21914730878018]"
      ]
     },
     "execution_count": 72,
     "metadata": {},
     "output_type": "execute_result"
    }
   ],
   "source": [
    "# Lambda function\n",
    "eng = list(map(lambda v,p: 100*(v/p), visitors, visitors_purchasing))\n",
    "eng"
   ]
  },
  {
   "cell_type": "code",
   "execution_count": 73,
   "metadata": {},
   "outputs": [
    {
     "data": {
      "text/plain": [
       "[384.63536425952,\n",
       " 457.730092347251,\n",
       " 209.06000172587008,\n",
       " 323.2986798585154,\n",
       " 355.77130153813846,\n",
       " 274.4358870194579,\n",
       " 278.8976591555613,\n",
       " 150.76672398216587,\n",
       " 221.54395234476607,\n",
       " 243.21914730878018]"
      ]
     },
     "execution_count": 73,
     "metadata": {},
     "output_type": "execute_result"
    }
   ],
   "source": [
    "# for loop\n",
    "eng = []\n",
    "for i in range(len(visitors)):\n",
    "    eng.append(100*(visitors[i]/visitors_purchasing[i]))\n",
    "\n",
    "eng    "
   ]
  }
 ],
 "metadata": {
  "kernelspec": {
   "display_name": "Python 3",
   "language": "python",
   "name": "python3"
  },
  "language_info": {
   "codemirror_mode": {
    "name": "ipython",
    "version": 3
   },
   "file_extension": ".py",
   "mimetype": "text/x-python",
   "name": "python",
   "nbconvert_exporter": "python",
   "pygments_lexer": "ipython3",
   "version": "3.7.6"
  },
  "toc": {
   "base_numbering": 1,
   "nav_menu": {},
   "number_sections": true,
   "sideBar": true,
   "skip_h1_title": false,
   "title_cell": "Table of Contents",
   "title_sidebar": "Contents",
   "toc_cell": false,
   "toc_position": {},
   "toc_section_display": true,
   "toc_window_display": false
  }
 },
 "nbformat": 4,
 "nbformat_minor": 4
}
